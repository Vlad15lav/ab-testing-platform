{
 "cells": [
  {
   "cell_type": "code",
   "execution_count": 22,
   "metadata": {},
   "outputs": [],
   "source": [
    "import pandas as pd\n",
    "import numpy as np\n",
    "\n",
    "from collections import defaultdict\n",
    "from typing import List\n",
    "from scipy import stats"
   ]
  },
  {
   "cell_type": "code",
   "execution_count": 2,
   "metadata": {},
   "outputs": [
    {
     "data": {
      "text/html": [
       "<div>\n",
       "<style scoped>\n",
       "    .dataframe tbody tr th:only-of-type {\n",
       "        vertical-align: middle;\n",
       "    }\n",
       "\n",
       "    .dataframe tbody tr th {\n",
       "        vertical-align: top;\n",
       "    }\n",
       "\n",
       "    .dataframe thead th {\n",
       "        text-align: right;\n",
       "    }\n",
       "</style>\n",
       "<table border=\"1\" class=\"dataframe\">\n",
       "  <thead>\n",
       "    <tr style=\"text-align: right;\">\n",
       "      <th></th>\n",
       "      <th>user_id</th>\n",
       "      <th>page</th>\n",
       "      <th>date</th>\n",
       "      <th>load_time</th>\n",
       "    </tr>\n",
       "  </thead>\n",
       "  <tbody>\n",
       "    <tr>\n",
       "      <th>0</th>\n",
       "      <td>f25239</td>\n",
       "      <td>m</td>\n",
       "      <td>2022-02-03 23:45:37</td>\n",
       "      <td>80.8</td>\n",
       "    </tr>\n",
       "    <tr>\n",
       "      <th>1</th>\n",
       "      <td>06d6df</td>\n",
       "      <td>m</td>\n",
       "      <td>2022-02-03 23:49:56</td>\n",
       "      <td>70.5</td>\n",
       "    </tr>\n",
       "    <tr>\n",
       "      <th>2</th>\n",
       "      <td>06d6df</td>\n",
       "      <td>m</td>\n",
       "      <td>2022-02-03 23:51:16</td>\n",
       "      <td>89.7</td>\n",
       "    </tr>\n",
       "    <tr>\n",
       "      <th>3</th>\n",
       "      <td>f25239</td>\n",
       "      <td>m</td>\n",
       "      <td>2022-02-03 23:51:43</td>\n",
       "      <td>74.4</td>\n",
       "    </tr>\n",
       "    <tr>\n",
       "      <th>4</th>\n",
       "      <td>697870</td>\n",
       "      <td>m</td>\n",
       "      <td>2022-02-03 23:53:12</td>\n",
       "      <td>66.8</td>\n",
       "    </tr>\n",
       "  </tbody>\n",
       "</table>\n",
       "</div>"
      ],
      "text/plain": [
       "  user_id page                 date  load_time\n",
       "0  f25239    m  2022-02-03 23:45:37       80.8\n",
       "1  06d6df    m  2022-02-03 23:49:56       70.5\n",
       "2  06d6df    m  2022-02-03 23:51:16       89.7\n",
       "3  f25239    m  2022-02-03 23:51:43       74.4\n",
       "4  697870    m  2022-02-03 23:53:12       66.8"
      ]
     },
     "execution_count": 2,
     "metadata": {},
     "output_type": "execute_result"
    }
   ],
   "source": [
    "df_web_logs = pd.read_csv('../data/2022-04-01T12_df_web_logs.csv')\n",
    "df_web_logs.head()"
   ]
  },
  {
   "cell_type": "markdown",
   "metadata": {},
   "source": [
    "## Сколько выбросов удалять\n",
    "  \n",
    "\n",
    "С одной стороны, при удалении выбросов снижается дисперсия, что приводит к увеличению чувствительности теста. С другой стороны, при удалении выбросов уменьшается размер выборки, что приводит к уменьшению чувствительности.\n",
    "\n",
    "Сравните мощности тестов с разной долей удаляемых данных. Используйте данные о времени работы бэкенда 2022-04-01T12_df_web_logs.csv в период с 2022-03-01 по 2022-03-08. Уровень значимости — 0.05. Размеры групп — 1000 человек (размер выборок будет больше, так как на одного человека приходится много значений). Проверяем гипотезу о равенстве средних с помощью теста Стьюдента. Ожидаемый эффект — увеличение времени обработки на 1%. Эффект в синтетических А/В-тестах добавляем умножением на константу.\n",
    "\n",
    "В ответ введите номера вариантов, упорядоченные по уменьшению мощности. Например, «12345» означает, что вариант 1 обладает наибольшей мощностью, а вариант 5 — наименьшей.\n",
    "\n",
    "1. Удалить 0.02% выбросов;\n",
    "\n",
    "2. Удалить 0.2% выбросов;\n",
    "\n",
    "3. Удалить 2% выбросов;\n",
    "\n",
    "4. Удалить 10% выбросов;\n",
    "\n",
    "5. Удалить 20% выбросов.\n",
    "\n",
    "Удалить 2% выбросов означает, что нужно убрать по 1% минимальных и максимальных значений выборки. То есть оставить значения, которые лежат между np.quantile(values, 0.01) и np.quantile(values, 0.99). Квантили вычислять для каждой групп отдельно."
   ]
  },
  {
   "cell_type": "code",
   "execution_count": 31,
   "metadata": {},
   "outputs": [],
   "source": [
    "def estimate_error(data_logs: pd.DataFrame,\n",
    "                   begin_date: str=None,\n",
    "                   end_date: str=None,\n",
    "                   effect: float=1,\n",
    "                   percent_remove: tuple=(0.02, 0.2,\n",
    "                                        2.0, 10, 20)):\n",
    "\n",
    "    data_period = data_logs[['user_id', 'date', 'load_time']].copy()\n",
    "\n",
    "    if begin_date:\n",
    "        data_period = data_period[data_period['date'] >= begin_date]\n",
    "    if end_date:\n",
    "        data_period = data_period[data_period['date'] < end_date]\n",
    "\n",
    "    result_power = defaultdict(list)\n",
    "    sample_size = 1000\n",
    "    epsilon = 1 + effect / 100\n",
    "    for _ in range(10000):\n",
    "        users_a, users_b = np.random.choice(data_period['user_id'], (2, sample_size), False)\n",
    "        origin_a = data_period.loc[data_period['user_id'].isin(users_a), 'load_time'].values\n",
    "        origin_b = data_period.loc[data_period['user_id'].isin(users_b), 'load_time'].values\n",
    "        origin_b *= epsilon\n",
    "\n",
    "        for r in percent_remove:\n",
    "            q = r / 100 / 2\n",
    "            begin_a = np.quantile(origin_a, q)\n",
    "            end_a = np.quantile(origin_a, 1 - q)\n",
    "            group_a = origin_a[(origin_a > begin_a) & (origin_a < end_a)]\n",
    "\n",
    "            begin_b = np.quantile(origin_b, q)\n",
    "            end_b = np.quantile(origin_b, 1 - q)\n",
    "            group_b = origin_b[(origin_b > begin_b) & (origin_b < end_b)]\n",
    "\n",
    "            pvalue = stats.ttest_ind(group_a, group_b).pvalue\n",
    "            result_power[r].append(pvalue < 0.05)\n",
    "\n",
    "    for k, v in result_power.items():\n",
    "        print(f'Outlier delete {k}%: {np.mean(v)}')"
   ]
  },
  {
   "cell_type": "code",
   "execution_count": 32,
   "metadata": {},
   "outputs": [
    {
     "name": "stdout",
     "output_type": "stream",
     "text": [
      "Outlier delete 0.02%: 0.0801\n",
      "Outlier delete 0.2%: 0.3421\n",
      "Outlier delete 2.0%: 0.9616\n",
      "Outlier delete 10%: 0.9769\n",
      "Outlier delete 20%: 0.9829\n"
     ]
    }
   ],
   "source": [
    "estimate_error(df_web_logs,\n",
    "               begin_date='2022-03-01',\n",
    "               end_date='2022-03-08')"
   ]
  },
  {
   "cell_type": "markdown",
   "metadata": {},
   "source": [
    "## Сколько выбросов удалять — 2\n",
    "  \n",
    "\n",
    "Выполните то же задание, изменив способ добавления эффекта. Эффект в синтетических А/В-тестах добавляем добавлением константы к 1% данных.\n",
    "\n",
    "В ответ введите номера вариантов упорядоченные по уменьшению мощности. Например, «12345» означает, что вариант 1 обладает наибольшей мощностью, а вариант 5 — наименьшей.\n",
    "\n",
    "1. Удалить 0.02% выбросов;\n",
    "\n",
    "2. Удалить 0.2% выбросов;\n",
    "\n",
    "3. Удалить 2% выбросов;\n",
    "\n",
    "4. Удалить 10% выбросов;\n",
    "\n",
    "5. Удалить 20% выбросов.\n",
    "\n",
    "Удалить 2% выбросов означает, что нужно убрать по 1% минимальных и максимальных значений выборки. То есть оставить значения, которые лежат между np.quantile(values, 0.01) и np.quantile(values, 0.99). Квантили вычислять для каждой группы отдельно."
   ]
  },
  {
   "cell_type": "code",
   "execution_count": 38,
   "metadata": {},
   "outputs": [],
   "source": [
    "def estimate_error2(data_logs: pd.DataFrame,\n",
    "                   begin_date: str=None,\n",
    "                   end_date: str=None,\n",
    "                   effect: float=1,\n",
    "                   percent_remove: tuple=(0.02, 0.2,\n",
    "                                        2.0, 10, 20)):\n",
    "\n",
    "    data_period = data_logs[['user_id', 'date', 'load_time']].copy()\n",
    "\n",
    "    if begin_date:\n",
    "        data_period = data_period[data_period['date'] >= begin_date]\n",
    "    if end_date:\n",
    "        data_period = data_period[data_period['date'] < end_date]\n",
    "\n",
    "    result_power = defaultdict(list)\n",
    "    sample_size = 1000\n",
    "    for _ in range(10000):\n",
    "        users_a, users_b = np.random.choice(data_period['user_id'], (2, sample_size), False)\n",
    "        origin_a = data_period.loc[data_period['user_id'].isin(users_a), 'load_time'].values\n",
    "        origin_b = data_period.loc[data_period['user_id'].isin(users_b), 'load_time'].values\n",
    "        indexs = np.random.choice(np.arange(len(origin_b)), len(origin_b) // 100, False)\n",
    "        origin_b[indexs] += origin_b.mean() * (effect / 100) * len(origin_b) / len(indexs)\n",
    "\n",
    "        for r in percent_remove:\n",
    "            q = r / 100 / 2\n",
    "            begin_a = np.quantile(origin_a, q)\n",
    "            end_a = np.quantile(origin_a, 1 - q)\n",
    "            group_a = origin_a[(origin_a > begin_a) & (origin_a < end_a)]\n",
    "\n",
    "            begin_b = np.quantile(origin_b, q)\n",
    "            end_b = np.quantile(origin_b, 1 - q)\n",
    "            group_b = origin_b[(origin_b > begin_b) & (origin_b < end_b)]\n",
    "\n",
    "            pvalue = stats.ttest_ind(group_a, group_b).pvalue\n",
    "            result_power[r].append(pvalue < 0.05)\n",
    "\n",
    "    for k, v in result_power.items():\n",
    "        print(f'Outlier delete {k}%: {np.mean(v)}')"
   ]
  },
  {
   "cell_type": "code",
   "execution_count": 39,
   "metadata": {},
   "outputs": [
    {
     "name": "stdout",
     "output_type": "stream",
     "text": [
      "Outlier delete 0.02%: 0.0877\n",
      "Outlier delete 0.2%: 0.3372\n",
      "Outlier delete 2.0%: 0.5146\n",
      "Outlier delete 10%: 0.3218\n",
      "Outlier delete 20%: 0.3427\n"
     ]
    }
   ],
   "source": [
    "estimate_error2(df_web_logs,\n",
    "               begin_date='2022-03-01',\n",
    "               end_date='2022-03-08')"
   ]
  },
  {
   "cell_type": "code",
   "execution_count": null,
   "metadata": {},
   "outputs": [],
   "source": []
  }
 ],
 "metadata": {
  "kernelspec": {
   "display_name": "env",
   "language": "python",
   "name": "python3"
  },
  "language_info": {
   "codemirror_mode": {
    "name": "ipython",
    "version": 3
   },
   "file_extension": ".py",
   "mimetype": "text/x-python",
   "name": "python",
   "nbconvert_exporter": "python",
   "pygments_lexer": "ipython3",
   "version": "3.11.4"
  }
 },
 "nbformat": 4,
 "nbformat_minor": 2
}
