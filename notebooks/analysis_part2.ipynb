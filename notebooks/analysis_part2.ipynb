{
 "cells": [
  {
   "cell_type": "code",
   "execution_count": 1,
   "metadata": {},
   "outputs": [
    {
     "name": "stderr",
     "output_type": "stream",
     "text": [
      "C:\\Users\\Vladislav\\AppData\\Local\\Temp\\ipykernel_8136\\2199524301.py:1: DeprecationWarning: \n",
      "Pyarrow will become a required dependency of pandas in the next major release of pandas (pandas 3.0),\n",
      "(to allow more performant data types, such as the Arrow string type, and better interoperability with other libraries)\n",
      "but was not found to be installed on your system.\n",
      "If this would cause problems for you,\n",
      "please provide us feedback at https://github.com/pandas-dev/pandas/issues/54466\n",
      "        \n",
      "  import pandas as pd\n"
     ]
    }
   ],
   "source": [
    "import pandas as pd\n",
    "import numpy as np\n",
    "\n",
    "from collections import defaultdict\n",
    "from typing import List\n",
    "from scipy import stats\n",
    "from datetime import datetime, timedelta"
   ]
  },
  {
   "cell_type": "code",
   "execution_count": 2,
   "metadata": {},
   "outputs": [
    {
     "data": {
      "text/html": [
       "<div>\n",
       "<style scoped>\n",
       "    .dataframe tbody tr th:only-of-type {\n",
       "        vertical-align: middle;\n",
       "    }\n",
       "\n",
       "    .dataframe tbody tr th {\n",
       "        vertical-align: top;\n",
       "    }\n",
       "\n",
       "    .dataframe thead th {\n",
       "        text-align: right;\n",
       "    }\n",
       "</style>\n",
       "<table border=\"1\" class=\"dataframe\">\n",
       "  <thead>\n",
       "    <tr style=\"text-align: right;\">\n",
       "      <th></th>\n",
       "      <th>user_id</th>\n",
       "      <th>page</th>\n",
       "      <th>date</th>\n",
       "      <th>load_time</th>\n",
       "    </tr>\n",
       "  </thead>\n",
       "  <tbody>\n",
       "    <tr>\n",
       "      <th>0</th>\n",
       "      <td>f25239</td>\n",
       "      <td>m</td>\n",
       "      <td>2022-02-03 23:45:37</td>\n",
       "      <td>80.8</td>\n",
       "    </tr>\n",
       "    <tr>\n",
       "      <th>1</th>\n",
       "      <td>06d6df</td>\n",
       "      <td>m</td>\n",
       "      <td>2022-02-03 23:49:56</td>\n",
       "      <td>70.5</td>\n",
       "    </tr>\n",
       "    <tr>\n",
       "      <th>2</th>\n",
       "      <td>06d6df</td>\n",
       "      <td>m</td>\n",
       "      <td>2022-02-03 23:51:16</td>\n",
       "      <td>89.7</td>\n",
       "    </tr>\n",
       "    <tr>\n",
       "      <th>3</th>\n",
       "      <td>f25239</td>\n",
       "      <td>m</td>\n",
       "      <td>2022-02-03 23:51:43</td>\n",
       "      <td>74.4</td>\n",
       "    </tr>\n",
       "    <tr>\n",
       "      <th>4</th>\n",
       "      <td>697870</td>\n",
       "      <td>m</td>\n",
       "      <td>2022-02-03 23:53:12</td>\n",
       "      <td>66.8</td>\n",
       "    </tr>\n",
       "  </tbody>\n",
       "</table>\n",
       "</div>"
      ],
      "text/plain": [
       "  user_id page                 date  load_time\n",
       "0  f25239    m  2022-02-03 23:45:37       80.8\n",
       "1  06d6df    m  2022-02-03 23:49:56       70.5\n",
       "2  06d6df    m  2022-02-03 23:51:16       89.7\n",
       "3  f25239    m  2022-02-03 23:51:43       74.4\n",
       "4  697870    m  2022-02-03 23:53:12       66.8"
      ]
     },
     "execution_count": 2,
     "metadata": {},
     "output_type": "execute_result"
    }
   ],
   "source": [
    "df_web_logs = pd.read_csv('../data/2022-04-01T12_df_web_logs.csv')\n",
    "df_web_logs.head()"
   ]
  },
  {
   "cell_type": "markdown",
   "metadata": {},
   "source": [
    "## Сколько выбросов удалять\n",
    "  \n",
    "\n",
    "С одной стороны, при удалении выбросов снижается дисперсия, что приводит к увеличению чувствительности теста. С другой стороны, при удалении выбросов уменьшается размер выборки, что приводит к уменьшению чувствительности.\n",
    "\n",
    "Сравните мощности тестов с разной долей удаляемых данных. Используйте данные о времени работы бэкенда 2022-04-01T12_df_web_logs.csv в период с 2022-03-01 по 2022-03-08. Уровень значимости — 0.05. Размеры групп — 1000 человек (размер выборок будет больше, так как на одного человека приходится много значений). Проверяем гипотезу о равенстве средних с помощью теста Стьюдента. Ожидаемый эффект — увеличение времени обработки на 1%. Эффект в синтетических А/В-тестах добавляем умножением на константу.\n",
    "\n",
    "В ответ введите номера вариантов, упорядоченные по уменьшению мощности. Например, «12345» означает, что вариант 1 обладает наибольшей мощностью, а вариант 5 — наименьшей.\n",
    "\n",
    "1. Удалить 0.02% выбросов;\n",
    "\n",
    "2. Удалить 0.2% выбросов;\n",
    "\n",
    "3. Удалить 2% выбросов;\n",
    "\n",
    "4. Удалить 10% выбросов;\n",
    "\n",
    "5. Удалить 20% выбросов.\n",
    "\n",
    "Удалить 2% выбросов означает, что нужно убрать по 1% минимальных и максимальных значений выборки. То есть оставить значения, которые лежат между np.quantile(values, 0.01) и np.quantile(values, 0.99). Квантили вычислять для каждой групп отдельно."
   ]
  },
  {
   "cell_type": "code",
   "execution_count": 31,
   "metadata": {},
   "outputs": [],
   "source": [
    "def estimate_error(data_logs: pd.DataFrame,\n",
    "                   begin_date: str=None,\n",
    "                   end_date: str=None,\n",
    "                   effect: float=1,\n",
    "                   percent_remove: tuple=(0.02, 0.2,\n",
    "                                        2.0, 10, 20)):\n",
    "\n",
    "    data_period = data_logs[['user_id', 'date', 'load_time']].copy()\n",
    "\n",
    "    if begin_date:\n",
    "        data_period = data_period[data_period['date'] >= begin_date]\n",
    "    if end_date:\n",
    "        data_period = data_period[data_period['date'] < end_date]\n",
    "\n",
    "    result_power = defaultdict(list)\n",
    "    sample_size = 1000\n",
    "    epsilon = 1 + effect / 100\n",
    "    for _ in range(10000):\n",
    "        users_a, users_b = np.random.choice(data_period['user_id'], (2, sample_size), False)\n",
    "        origin_a = data_period.loc[data_period['user_id'].isin(users_a), 'load_time'].values\n",
    "        origin_b = data_period.loc[data_period['user_id'].isin(users_b), 'load_time'].values\n",
    "        origin_b *= epsilon\n",
    "\n",
    "        for r in percent_remove:\n",
    "            q = r / 100 / 2\n",
    "            begin_a = np.quantile(origin_a, q)\n",
    "            end_a = np.quantile(origin_a, 1 - q)\n",
    "            group_a = origin_a[(origin_a > begin_a) & (origin_a < end_a)]\n",
    "\n",
    "            begin_b = np.quantile(origin_b, q)\n",
    "            end_b = np.quantile(origin_b, 1 - q)\n",
    "            group_b = origin_b[(origin_b > begin_b) & (origin_b < end_b)]\n",
    "\n",
    "            pvalue = stats.ttest_ind(group_a, group_b).pvalue\n",
    "            result_power[r].append(pvalue < 0.05)\n",
    "\n",
    "    for k, v in result_power.items():\n",
    "        print(f'Outlier delete {k}%: {np.mean(v)}')"
   ]
  },
  {
   "cell_type": "code",
   "execution_count": 32,
   "metadata": {},
   "outputs": [
    {
     "name": "stdout",
     "output_type": "stream",
     "text": [
      "Outlier delete 0.02%: 0.0801\n",
      "Outlier delete 0.2%: 0.3421\n",
      "Outlier delete 2.0%: 0.9616\n",
      "Outlier delete 10%: 0.9769\n",
      "Outlier delete 20%: 0.9829\n"
     ]
    }
   ],
   "source": [
    "estimate_error(df_web_logs,\n",
    "               begin_date='2022-03-01',\n",
    "               end_date='2022-03-08')"
   ]
  },
  {
   "cell_type": "markdown",
   "metadata": {},
   "source": [
    "## Сколько выбросов удалять — 2\n",
    "  \n",
    "\n",
    "Выполните то же задание, изменив способ добавления эффекта. Эффект в синтетических А/В-тестах добавляем добавлением константы к 1% данных.\n",
    "\n",
    "В ответ введите номера вариантов упорядоченные по уменьшению мощности. Например, «12345» означает, что вариант 1 обладает наибольшей мощностью, а вариант 5 — наименьшей.\n",
    "\n",
    "1. Удалить 0.02% выбросов;\n",
    "\n",
    "2. Удалить 0.2% выбросов;\n",
    "\n",
    "3. Удалить 2% выбросов;\n",
    "\n",
    "4. Удалить 10% выбросов;\n",
    "\n",
    "5. Удалить 20% выбросов.\n",
    "\n",
    "Удалить 2% выбросов означает, что нужно убрать по 1% минимальных и максимальных значений выборки. То есть оставить значения, которые лежат между np.quantile(values, 0.01) и np.quantile(values, 0.99). Квантили вычислять для каждой группы отдельно."
   ]
  },
  {
   "cell_type": "code",
   "execution_count": 38,
   "metadata": {},
   "outputs": [],
   "source": [
    "def estimate_error2(data_logs: pd.DataFrame,\n",
    "                   begin_date: str=None,\n",
    "                   end_date: str=None,\n",
    "                   effect: float=1,\n",
    "                   percent_remove: tuple=(0.02, 0.2,\n",
    "                                        2.0, 10, 20)):\n",
    "\n",
    "    data_period = data_logs[['user_id', 'date', 'load_time']].copy()\n",
    "\n",
    "    if begin_date:\n",
    "        data_period = data_period[data_period['date'] >= begin_date]\n",
    "    if end_date:\n",
    "        data_period = data_period[data_period['date'] < end_date]\n",
    "\n",
    "    result_power = defaultdict(list)\n",
    "    sample_size = 1000\n",
    "    for _ in range(10000):\n",
    "        users_a, users_b = np.random.choice(data_period['user_id'], (2, sample_size), False)\n",
    "        origin_a = data_period.loc[data_period['user_id'].isin(users_a), 'load_time'].values\n",
    "        origin_b = data_period.loc[data_period['user_id'].isin(users_b), 'load_time'].values\n",
    "        indexs = np.random.choice(np.arange(len(origin_b)), len(origin_b) // 100, False)\n",
    "        origin_b[indexs] += origin_b.mean() * (effect / 100) * len(origin_b) / len(indexs)\n",
    "\n",
    "        for r in percent_remove:\n",
    "            q = r / 100 / 2\n",
    "            begin_a = np.quantile(origin_a, q)\n",
    "            end_a = np.quantile(origin_a, 1 - q)\n",
    "            group_a = origin_a[(origin_a > begin_a) & (origin_a < end_a)]\n",
    "\n",
    "            begin_b = np.quantile(origin_b, q)\n",
    "            end_b = np.quantile(origin_b, 1 - q)\n",
    "            group_b = origin_b[(origin_b > begin_b) & (origin_b < end_b)]\n",
    "\n",
    "            pvalue = stats.ttest_ind(group_a, group_b).pvalue\n",
    "            result_power[r].append(pvalue < 0.05)\n",
    "\n",
    "    for k, v in result_power.items():\n",
    "        print(f'Outlier delete {k}%: {np.mean(v)}')"
   ]
  },
  {
   "cell_type": "code",
   "execution_count": 39,
   "metadata": {},
   "outputs": [
    {
     "name": "stdout",
     "output_type": "stream",
     "text": [
      "Outlier delete 0.02%: 0.0877\n",
      "Outlier delete 0.2%: 0.3372\n",
      "Outlier delete 2.0%: 0.5146\n",
      "Outlier delete 10%: 0.3218\n",
      "Outlier delete 20%: 0.3427\n"
     ]
    }
   ],
   "source": [
    "estimate_error2(df_web_logs,\n",
    "               begin_date='2022-03-01',\n",
    "               end_date='2022-03-08')"
   ]
  },
  {
   "cell_type": "markdown",
   "metadata": {},
   "source": [
    "## Разбиение на страты\n",
    "  \n",
    "Предположим, у нас есть набор признаков, которые вычисляются независимо от эксперимента. Используя эти признаки, нужно разбить объекты на страты так, чтобы дисперсия стратифицированного среднего была минимальна и доля каждой страты была не менее 5% от всех данных.\n",
    "\n",
    "Данные разбиты на 2 части. Первая часть доступна для исследования по ссылке stratification_task_data_public.csv. Решение будет проверяться на второй части данных. Значения в столбцах\n",
    "x1, ..., x10 — признаки, которые можно использовать для вычисления страт. Значения в столбце y — измерения, по которым будет вычисляться целевая метрика эксперимента."
   ]
  },
  {
   "cell_type": "code",
   "execution_count": 3,
   "metadata": {},
   "outputs": [
    {
     "data": {
      "text/html": [
       "<div>\n",
       "<style scoped>\n",
       "    .dataframe tbody tr th:only-of-type {\n",
       "        vertical-align: middle;\n",
       "    }\n",
       "\n",
       "    .dataframe tbody tr th {\n",
       "        vertical-align: top;\n",
       "    }\n",
       "\n",
       "    .dataframe thead th {\n",
       "        text-align: right;\n",
       "    }\n",
       "</style>\n",
       "<table border=\"1\" class=\"dataframe\">\n",
       "  <thead>\n",
       "    <tr style=\"text-align: right;\">\n",
       "      <th></th>\n",
       "      <th>x1</th>\n",
       "      <th>x2</th>\n",
       "      <th>x3</th>\n",
       "      <th>x4</th>\n",
       "      <th>x5</th>\n",
       "      <th>x6</th>\n",
       "      <th>x7</th>\n",
       "      <th>x8</th>\n",
       "      <th>x9</th>\n",
       "      <th>x10</th>\n",
       "      <th>y</th>\n",
       "    </tr>\n",
       "  </thead>\n",
       "  <tbody>\n",
       "    <tr>\n",
       "      <th>0</th>\n",
       "      <td>0.869</td>\n",
       "      <td>30</td>\n",
       "      <td>33.8</td>\n",
       "      <td>0</td>\n",
       "      <td>1</td>\n",
       "      <td>0.2</td>\n",
       "      <td>1992</td>\n",
       "      <td>1</td>\n",
       "      <td>1</td>\n",
       "      <td>1</td>\n",
       "      <td>1903</td>\n",
       "    </tr>\n",
       "    <tr>\n",
       "      <th>1</th>\n",
       "      <td>0.759</td>\n",
       "      <td>27</td>\n",
       "      <td>21.7</td>\n",
       "      <td>2</td>\n",
       "      <td>0</td>\n",
       "      <td>3.5</td>\n",
       "      <td>1995</td>\n",
       "      <td>1</td>\n",
       "      <td>1</td>\n",
       "      <td>2</td>\n",
       "      <td>1313</td>\n",
       "    </tr>\n",
       "    <tr>\n",
       "      <th>2</th>\n",
       "      <td>0.456</td>\n",
       "      <td>29</td>\n",
       "      <td>37.6</td>\n",
       "      <td>2</td>\n",
       "      <td>0</td>\n",
       "      <td>3.1</td>\n",
       "      <td>1993</td>\n",
       "      <td>0</td>\n",
       "      <td>0</td>\n",
       "      <td>0</td>\n",
       "      <td>1484</td>\n",
       "    </tr>\n",
       "    <tr>\n",
       "      <th>3</th>\n",
       "      <td>0.060</td>\n",
       "      <td>35</td>\n",
       "      <td>27.5</td>\n",
       "      <td>2</td>\n",
       "      <td>0</td>\n",
       "      <td>4.7</td>\n",
       "      <td>1988</td>\n",
       "      <td>0</td>\n",
       "      <td>0</td>\n",
       "      <td>1</td>\n",
       "      <td>1188</td>\n",
       "    </tr>\n",
       "    <tr>\n",
       "      <th>4</th>\n",
       "      <td>0.939</td>\n",
       "      <td>19</td>\n",
       "      <td>30.7</td>\n",
       "      <td>0</td>\n",
       "      <td>0</td>\n",
       "      <td>3.6</td>\n",
       "      <td>2003</td>\n",
       "      <td>1</td>\n",
       "      <td>1</td>\n",
       "      <td>2</td>\n",
       "      <td>842</td>\n",
       "    </tr>\n",
       "  </tbody>\n",
       "</table>\n",
       "</div>"
      ],
      "text/plain": [
       "      x1  x2    x3  x4  x5   x6    x7  x8  x9  x10     y\n",
       "0  0.869  30  33.8   0   1  0.2  1992   1   1    1  1903\n",
       "1  0.759  27  21.7   2   0  3.5  1995   1   1    2  1313\n",
       "2  0.456  29  37.6   2   0  3.1  1993   0   0    0  1484\n",
       "3  0.060  35  27.5   2   0  4.7  1988   0   0    1  1188\n",
       "4  0.939  19  30.7   0   0  3.6  2003   1   1    2   842"
      ]
     },
     "execution_count": 3,
     "metadata": {},
     "output_type": "execute_result"
    }
   ],
   "source": [
    "df_strats = pd.read_csv('../data/stratification_task_data_public.csv')\n",
    "df_strats.head()"
   ]
  },
  {
   "cell_type": "code",
   "execution_count": 5,
   "metadata": {},
   "outputs": [
    {
     "data": {
      "image/png": "[encoded data removed]",
      "text/plain": [
       "<Figure size 640x480 with 12 Axes>"
      ]
     },
     "metadata": {},
     "output_type": "display_data"
    }
   ],
   "source": [
    "df_strats.hist(bins=20);"
   ]
  },
  {
   "cell_type": "code",
   "execution_count": 31,
   "metadata": {},
   "outputs": [
    {
     "name": "stdout",
     "output_type": "stream",
     "text": [
      "Отлично! Дисперсия равна 48882.0, меньше порога 50000\n"
     ]
    }
   ],
   "source": [
    "def get_strats(df: pd.DataFrame):\n",
    "    \"\"\"Возвращает страты объектов.\n",
    "    \n",
    "    :return (list | np.array | pd.Series): список страт объектов размера len(df).\n",
    "    \"\"\"\n",
    "    temp = []\n",
    "    for i in range(len(df)):\n",
    "        row = df.iloc[i]\n",
    "        temp.append(\n",
    "            str(int(26 <= row['x2'] <= 34)) +\n",
    "            str(int(row['x5'] == row['x9'])) +\n",
    "            str(int(row['x10'] > 1))\n",
    "        )\n",
    "\n",
    "    return temp\n",
    "\n",
    "\n",
    "def calculate_strat_var(df):\n",
    "    \"\"\"Вычисляет стратифицированную дисперсию популяции.\"\"\"\n",
    "    strat_vars = df.groupby('strat')['y'].var()\n",
    "    weights = df['strat'].value_counts(normalize=True)\n",
    "    stratified_var = (strat_vars * weights).sum()\n",
    "    return stratified_var\n",
    "\n",
    "\n",
    "if __name__ == \"__main__\":\n",
    "    bound = 50000\n",
    "    df = pd.read_csv('../data/stratification_task_data_public.csv')\n",
    "    strats = get_strats(df.drop('y', axis=1))\n",
    "    assert len(strats) == len(df), \"Неверный размер списка страт\"\n",
    "    min_part = pd.Series(strats).value_counts(normalize=True).min()\n",
    "    assert min_part >= 0.05, \"Минимальная доля одной из страт меньше 5%\"\n",
    "    df['strat'] = strats\n",
    "    strat_var = calculate_strat_var(df)\n",
    "    err_msg = f\"Дисперсия равна {strat_var:0.1f}, её нужно снизить до {bound}\"\n",
    "    assert strat_var <= bound, err_msg\n",
    "    print(f'Отлично! Дисперсия равна {strat_var:0.1f}, меньше порога {bound}')"
   ]
  },
  {
   "cell_type": "markdown",
   "metadata": {},
   "source": [
    "### ML решение (сложно интерпретировать)\n",
    "\n",
    "```python\n",
    "from lightgbm import LGBMRegressor\n",
    "\n",
    "df_train = df_public.iloc[:len(df_public) // 2].copy()\n",
    "df_test = df_public.iloc[len(df_public) // 2:].copy()\n",
    "\n",
    "model = LGBMRegressor(num_leaves=3)\n",
    "feature_names = [f'x{i}' for i in range(1, 11)]\n",
    "model.fit(df_train[feature_names].values, df_train['y'].values)\n",
    "predict_test = model.predict(df_test[feature_names].values)\n",
    "\n",
    "n_strat = 10\n",
    "quantiles = np.quantile(predict_test, np.linspace(0, 1 - 1 / n_strat, n_strat))\n",
    "df_test['strat'] = [np.sum(predict >= quantiles) for predict in predict_test]\n",
    "print(int(calculate_strat_var(df_test)))\n",
    "```"
   ]
  },
  {
   "cell_type": "markdown",
   "metadata": {},
   "source": [
    "## Оценка эксперимента с CUPED\n",
    "  \n",
    "Оцените эксперимент «Sending email (correct link)» с использованием CUPED. В качестве ковариаты используйте выручку пользователей за 4 недели до эксперимента."
   ]
  },
  {
   "cell_type": "code",
   "execution_count": 2,
   "metadata": {},
   "outputs": [],
   "source": [
    "df_sales = pd.read_csv('../data/2022-05-03T12_df_sales.csv')\n",
    "df_pilot = pd.read_csv('../data/2022-05-03_experiment_users.csv')"
   ]
  },
  {
   "cell_type": "code",
   "execution_count": 128,
   "metadata": {},
   "outputs": [],
   "source": [
    "def get_cuped_experiment(sales_data: pd.DataFrame,\n",
    "                         pilot_data: pd.DataFrame,\n",
    "                         begin_date: str,\n",
    "                         end_date: str):\n",
    "    \n",
    "    df_sales = sales_data[['user_id', 'date', 'price']].copy()\n",
    "    df_sales['date'] = pd.to_datetime(df_sales['date'])\n",
    "\n",
    "    begin_date = datetime.strptime(begin_date, '%Y-%m-%d')\n",
    "    end_date = datetime.strptime(end_date, '%Y-%m-%d')\n",
    "    begin_cov_date = begin_date - timedelta(days=28)\n",
    "\n",
    "    a_users = pilot_data[pilot_data['pilot'] == 0]\n",
    "    b_users = pilot_data[pilot_data['pilot'] == 1]\n",
    "\n",
    "    cov_metric = df_sales[(df_sales['date'] >= begin_cov_date) & \\\n",
    "                          (df_sales['date'] < begin_date)] \\\n",
    "                            .groupby('user_id')[['price']].sum().reset_index()\n",
    "    metric = df_sales[(df_sales['date'] >= begin_date) & \\\n",
    "                      (df_sales['date'] < end_date)] \\\n",
    "                        .groupby('user_id')[['price']].sum().reset_index()\n",
    "\n",
    "    X_a_group = a_users.merge(right=cov_metric,\n",
    "                              how='left',\n",
    "                              on='user_id')['price'].fillna(0)\n",
    "    Y_a_group = a_users.merge(right=metric,\n",
    "                              how='left',\n",
    "                              on='user_id')['price'].fillna(0)\n",
    "    \n",
    "    X_b_group = b_users.merge(right=cov_metric,\n",
    "                              how='left',\n",
    "                              on='user_id')['price'].fillna(0)\n",
    "    Y_b_group = b_users.merge(right=metric,\n",
    "                              how='left',\n",
    "                              on='user_id')['price'].fillna(0)\n",
    "\n",
    "    y_metric = np.hstack((Y_a_group, Y_b_group))\n",
    "    x_metric = np.hstack((X_a_group, X_b_group))\n",
    "    theta = np.cov(x_metric, y_metric)[0][1] / x_metric.var()\n",
    "    a_cuped = Y_a_group - theta * X_a_group    \n",
    "    b_cuped = Y_b_group - theta * X_b_group\n",
    "\n",
    "    pvalue = stats.ttest_ind(a_cuped, b_cuped).pvalue\n",
    "    return pvalue"
   ]
  },
  {
   "cell_type": "code",
   "execution_count": 136,
   "metadata": {},
   "outputs": [
    {
     "data": {
      "text/plain": [
       "0.05394611971573105"
      ]
     },
     "execution_count": 136,
     "metadata": {},
     "output_type": "execute_result"
    }
   ],
   "source": [
    "get_cuped_experiment(df_sales, df_pilot,\n",
    "                     begin_date='2022-04-25',\n",
    "                     end_date='2022-05-02')"
   ]
  },
  {
   "cell_type": "markdown",
   "metadata": {},
   "source": [
    "## Оценка эксперимента с линеаризацией\n",
    "  \n",
    "Раньше мы оценивали эксперимент \"Refactoring backend\", предполагая, что данные времени работы бэкенда независимые. Теперь мы можем корректно оценить этот эксперимент, даже если данные зависели бы от пользователей.\n",
    "\n",
    "Оцените эксперимент \"Refactoring backend\" с использованием линеаризации в предположении, что данные пользователей зависимы."
   ]
  },
  {
   "cell_type": "code",
   "execution_count": 2,
   "metadata": {},
   "outputs": [],
   "source": [
    "df_logs = pd.read_csv('../data/2022-04-13T12_df_web_logs.csv')\n",
    "df_exp = pd.read_csv('../data/2022-04-13_experiment_users.csv')"
   ]
  },
  {
   "cell_type": "code",
   "execution_count": 36,
   "metadata": {},
   "outputs": [],
   "source": [
    "def linearization_experiment(df_logs: pd.DataFrame,\n",
    "                             df_exp: pd.DataFrame,\n",
    "                             begin_date: str,\n",
    "                             end_date: str):\n",
    "    a_users = df_exp[df_exp['pilot'] == 0][['user_id']]\n",
    "    b_users = df_exp[df_exp['pilot'] == 1][['user_id']]\n",
    "\n",
    "    data_logs = df_logs[(df_logs['date'] >= begin_date) & \\\n",
    "                        (df_logs['date'] < end_date)]\n",
    "    data_logs = data_logs[['user_id', 'load_time']]\n",
    "\n",
    "    a_group = a_users.merge(right=data_logs,\n",
    "                            how='left',\n",
    "                            on='user_id')\n",
    "    b_group = b_users.merge(right=data_logs,\n",
    "                            how='left',\n",
    "                            on='user_id')\n",
    "\n",
    "    k = a_group['load_time'].sum() / len(a_group)\n",
    "\n",
    "    a_user_metric = a_group.groupby('user_id')[['load_time']].sum()\n",
    "    a_user_count = a_group.groupby('user_id')[['load_time']].count()\n",
    "\n",
    "    b_user_metric = b_group.groupby('user_id')[['load_time']].sum()\n",
    "    b_user_count = b_group.groupby('user_id')[['load_time']].count()\n",
    "\n",
    "    a_linear = a_user_metric['load_time'] - k * a_user_count['load_time']\n",
    "    b_linear = b_user_metric['load_time'] - k * b_user_count['load_time']\n",
    "\n",
    "    pvalue = stats.ttest_ind(a_linear.values, b_linear.values).pvalue\n",
    "    return pvalue\n"
   ]
  },
  {
   "cell_type": "code",
   "execution_count": 41,
   "metadata": {},
   "outputs": [
    {
     "data": {
      "text/plain": [
       "0.0441680027240742"
      ]
     },
     "execution_count": 41,
     "metadata": {},
     "output_type": "execute_result"
    }
   ],
   "source": [
    "linearization_experiment(df_logs,\n",
    "                         df_exp,\n",
    "                         begin_date='2022-04-05',\n",
    "                         end_date='2022-04-12')"
   ]
  },
  {
   "cell_type": "code",
   "execution_count": null,
   "metadata": {},
   "outputs": [],
   "source": []
  }
 ],
 "metadata": {
  "kernelspec": {
   "display_name": "env",
   "language": "python",
   "name": "python3"
  },
  "language_info": {
   "codemirror_mode": {
    "name": "ipython",
    "version": 3
   },
   "file_extension": ".py",
   "mimetype": "text/x-python",
   "name": "python",
   "nbconvert_exporter": "python",
   "pygments_lexer": "ipython3",
   "version": "3.11.4"
  }
 },
 "nbformat": 4,
 "nbformat_minor": 2
}
